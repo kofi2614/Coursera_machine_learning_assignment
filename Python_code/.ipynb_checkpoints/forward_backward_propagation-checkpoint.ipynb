{
 "cells": [
  {
   "cell_type": "markdown",
   "metadata": {},
   "source": [
    "# Train Neural Network!!! \n",
    "1 hidden layer with 10 nodes"
   ]
  },
  {
   "cell_type": "markdown",
   "metadata": {},
   "source": [
    "### Load libraries"
   ]
  },
  {
   "cell_type": "code",
   "execution_count": 27,
   "metadata": {},
   "outputs": [],
   "source": [
    "# Import packages\n",
    "import pandas as pd # for reading in data\n",
    "import numpy as np\n",
    "import math, time, datetime\n",
    "from sklearn.model_selection import train_test_split\n",
    "from scipy import stats\n",
    "from numpy import transpose as tr\n",
    "from sklearn.decomposition import PCA\n",
    "from sklearn.preprocessing import StandardScaler\n",
    "import matplotlib.pyplot as plt\n",
    "# Modifying viewing options so i can see all columns\n",
    "pd.options.display.max_columns = 1000\n"
   ]
  },
  {
   "cell_type": "markdown",
   "metadata": {},
   "source": [
    "### Load data: NEED INPUTS "
   ]
  },
  {
   "cell_type": "code",
   "execution_count": null,
   "metadata": {},
   "outputs": [],
   "source": [
    "##############\n",
    "### INPUTS ###\n",
    "##############\n",
    "\n",
    "wdir\n",
    "dataName = \n",
    "# Load data\n",
    "df = pd.read_csv(wdir +  dataName)\n",
    "print('Dimension of dataset:', df.shape[0], 'rows with', df.shape[1], 'columns')"
   ]
  },
  {
   "cell_type": "markdown",
   "metadata": {},
   "source": [
    "### Create feature set (X) and outcome labels (y)"
   ]
  },
  {
   "cell_type": "code",
   "execution_count": 4,
   "metadata": {},
   "outputs": [],
   "source": [
    "# Creating feature set (X) and label (y)\n",
    "X = df[[feat for feat in df.columns.tolist() if feat !='fi_ind']]\n",
    "y = df['fi_ind']"
   ]
  },
  {
   "cell_type": "markdown",
   "metadata": {},
   "source": [
    "### Standardize data and reduce dimension"
   ]
  },
  {
   "cell_type": "code",
   "execution_count": 8,
   "metadata": {},
   "outputs": [],
   "source": [
    "scaler = StandardScaler()\n",
    "scaler.fit(X)\n",
    "X = scaler.transform(X)\n",
    "X[0:10,:]\n",
    "X = pd.DataFrame(X)\n",
    "pca = PCA(.95)\n",
    "pca.fit(X)\n",
    "pca.n_components_\n",
    "X = pca.transform(X)\n",
    "X = pd.DataFrame(X)"
   ]
  },
  {
   "cell_type": "code",
   "execution_count": 11,
   "metadata": {},
   "outputs": [],
   "source": [
    "X_train, X_test,y_train,y_test = train_test_split(X,y,test_size = 0.2,random_state = 88)\n",
    "y_train = np.array(y_train)"
   ]
  },
  {
   "cell_type": "markdown",
   "metadata": {},
   "source": [
    "### Building Neural Network model"
   ]
  },
  {
   "cell_type": "code",
   "execution_count": 12,
   "metadata": {},
   "outputs": [],
   "source": [
    "#set up initial theta with random values\n",
    "def theta_ini(row,col,epsilon=0.12):\n",
    "    theta = np.random.rand(row,col)*2*epsilon-epsilon\n",
    "    return theta"
   ]
  },
  {
   "cell_type": "code",
   "execution_count": 13,
   "metadata": {},
   "outputs": [],
   "source": [
    "#sigmoid function\n",
    "def sigmoid(z):\n",
    "    #h = np.divide(1,np.add(1,np.exp(np.subtract(0,z))))\n",
    "    h=1 / (1 + np.exp(-z))\n",
    "    return h"
   ]
  },
  {
   "cell_type": "code",
   "execution_count": 14,
   "metadata": {},
   "outputs": [],
   "source": [
    "#perform forward propagation\n",
    "def forwardprop(X,y,theta1, theta2,s2 = 10):\n",
    "    m = X.shape[0]\n",
    "    a1 = np.c_[np.ones(m),X]\n",
    "    z2 = a1@tr(theta1)\n",
    "    a2 = sigmoid(z2)\n",
    "    a2 = np.c_[np.ones(a2.shape[0]),a2]\n",
    "    z3 = a2@tr(theta2)\n",
    "    a3 = sigmoid(z3)\n",
    "    return a1,a2,a3,z2,z3"
   ]
  },
  {
   "cell_type": "code",
   "execution_count": 15,
   "metadata": {},
   "outputs": [],
   "source": [
    "#calculate cost function\n",
    "def costfunc(y, a3,theta1, theta2, lam):\n",
    "    J = 0\n",
    "    #J += sum(sum(y*np.log(a3) + (1-y)*np.log(1-a3)))\n",
    "    for i in range(y.shape[0]):\n",
    "        J = J - (y[i]*np.log(a3[i])+(1-y[i])*np.log(1-a3[i]))\n",
    "    J = J/y.shape[0]\n",
    "    t=0\n",
    "    for i in range(theta1.shape[0]):\n",
    "        for j in range(1,theta1.shape[1]):\n",
    "            t = t+theta1[i,j]**2\n",
    "    for i in range(theta2.shape[0]):\n",
    "        for j in range(1,theta2.shape[1]):\n",
    "            t = t+theta2[i,j]**2\n",
    "    J = J + t*lam/(2*y.shape[0])\n",
    "    return J"
   ]
  },
  {
   "cell_type": "code",
   "execution_count": 16,
   "metadata": {},
   "outputs": [],
   "source": [
    "#calculate gradient for each iteration by backward propagation\n",
    "def gradient(y,a1,a2, a3,theta1, theta2, lam):\n",
    "    m = y.shape[0]\n",
    "    theta2_grad = np.zeros(theta2.shape)\n",
    "    theta1_grad = np.zeros(theta1.shape)\n",
    "    for i in range(m):\n",
    "        delta3 = a3[i]-y[i]\n",
    "        delta2 = theta2*delta3*a2[i,:]*(1-a2[i,:])\n",
    "        theta2_grad = theta2_grad+delta3*a2[i]\n",
    "        theta1_grad = theta1_grad+tr(delta2[:,1:])*a1[i,:]\n",
    "    theta2_grad = theta2_grad/m\n",
    "    theta1_grad = theta1_grad/m\n",
    "    for i in range(theta2_grad.shape[0]):\n",
    "        for j in range(1, theta2_grad.shape[1]):\n",
    "            theta2_grad[i,j] = theta2_grad[i,j]+theta2[i,j]*lam/m\n",
    "    for i in range(theta1_grad.shape[0]):\n",
    "        for j in range(1, theta1_grad.shape[1]):\n",
    "            theta1_grad[i,j] = theta1_grad[i,j]+theta1[i,j]*lam/m\n",
    "    return theta1_grad, theta2_grad"
   ]
  },
  {
   "cell_type": "code",
   "execution_count": 17,
   "metadata": {},
   "outputs": [],
   "source": [
    "def grad_desc(X,y,s2,lam=1,alpha=0.005, max_iter = 10):\n",
    "    theta1 = theta_ini(s2,X.shape[1]+1)\n",
    "    theta2 = theta_ini(1,s2+1)\n",
    "    J_l = []\n",
    "    itera = 0\n",
    "    while itera < max_iter:\n",
    "        a1,a2,a3,z2,z3 = forwardprop(X_train,y_train,theta1, theta2)\n",
    "        J= costfunc(y_train,a3,theta1,theta2,lam)\n",
    "        theta1_grad, theta2_grad = gradient(y_train,a1,a2,a3,theta1, theta2,lam)\n",
    "        theta1 = theta1-alpha*theta1_grad\n",
    "        theta2 = theta2-alpha*theta2_grad\n",
    "        J_l.append(J)\n",
    "        itera+=1\n",
    "    return theta1, theta2, J_l"
   ]
  },
  {
   "cell_type": "code",
   "execution_count": null,
   "metadata": {},
   "outputs": [],
   "source": [
    "#train the model and apply to test data\n",
    "theta1_t, theta2_t, J_l = grad_desc(X_train,y_train,10,1,0.05,5000)\n",
    "a1_t,a2_t,a3_t,z2_t,z3_t = forwardprop(X_test,y_test,theta1_t, theta2_t)"
   ]
  },
  {
   "cell_type": "code",
   "execution_count": 29,
   "metadata": {},
   "outputs": [
    {
     "data": {
      "image/png": "[encoded data removed]",
      "text/plain": [
       "<Figure size 432x288 with 1 Axes>"
      ]
     },
     "metadata": {},
     "output_type": "display_data"
    }
   ],
   "source": [
    "#visualize cost by each iteration\n",
    "ind = np.arange(len(J_l))\n",
    "plt.plot(ind, J_l)\n",
    "plt.show()"
   ]
  }
 ],
 "metadata": {
  "kernelspec": {
   "display_name": "Python 3",
   "language": "python",
   "name": "python3"
  },
  "language_info": {
   "codemirror_mode": {
    "name": "ipython",
    "version": 3
   },
   "file_extension": ".py",
   "mimetype": "text/x-python",
   "name": "python",
   "nbconvert_exporter": "python",
   "pygments_lexer": "ipython3",
   "version": "3.6.6"
  }
 },
 "nbformat": 4,
 "nbformat_minor": 2
}
